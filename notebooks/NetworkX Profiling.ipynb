{
 "metadata": {
  "name": "NetworkX Profiling"
 },
 "nbformat": 3,
 "nbformat_minor": 0,
 "worksheets": [
  {
   "cells": [
    {
     "cell_type": "markdown",
     "metadata": {},
     "source": [
      "Profiling\n",
      "=========\n",
      "\n",
      "The purpose of this exercise is to gain insight on the memory and computation time characteristics of NetworkX.\n",
      "\n",
      "In particular we are interested in measuring how it responds with networks of size\n",
      "\n",
      "* Nodes: 2,000\n",
      "* Edges: 500,000\n",
      "\n"
     ]
    },
    {
     "cell_type": "code",
     "collapsed": false,
     "input": [
      "import networkx as nx\n",
      "import matplotlib.pylab as plt\n",
      "import numpy as np\n",
      "from numpy import random"
     ],
     "language": "python",
     "metadata": {},
     "outputs": [],
     "prompt_number": 10
    },
    {
     "cell_type": "markdown",
     "metadata": {},
     "source": [
      "Create a Graph\n",
      "--------------\n",
      "\n",
      "Manually inserting nodes, and then adding edges to a certain number of random other nodes\n"
     ]
    },
    {
     "cell_type": "code",
     "collapsed": false,
     "input": [
      "number_of_nodes = 2000\n",
      "number_of_edges_per_node = 500"
     ],
     "language": "python",
     "metadata": {},
     "outputs": [],
     "prompt_number": 15
    },
    {
     "cell_type": "code",
     "collapsed": false,
     "input": [
      "G = nx.Graph()\n",
      "\n",
      "for i in range(0,number_of_nodes):\n",
      "    G.add_node(i)\n",
      "    \n",
      "for i in range(0,number_of_nodes):\n",
      "    for j in range(0,number_of_edges_per_node):\n",
      "        k = np.random.randint(0,number_of_nodes)\n",
      "        G.add_edge(i,k)\n",
      "        \n",
      "print 'nodes = ', G.number_of_nodes()\n",
      "print 'edges = ', G.number_of_edges()"
     ],
     "language": "python",
     "metadata": {},
     "outputs": [
      {
       "output_type": "stream",
       "stream": "stdout",
       "text": [
        "nodes =  2000\n",
        "edges =  787536\n"
       ]
      }
     ],
     "prompt_number": 16
    },
    {
     "cell_type": "markdown",
     "metadata": {},
     "source": [
      "Other Graph Types\n",
      "-----------------\n",
      "\n",
      "Use built-in functions to create other typicall graphs"
     ]
    },
    {
     "cell_type": "code",
     "collapsed": false,
     "input": [
      "G = nx.barabasi_albert_graph(number_of_nodes,50)"
     ],
     "language": "python",
     "metadata": {},
     "outputs": []
    },
    {
     "cell_type": "markdown",
     "metadata": {},
     "source": [
      "Profile Drawing\n",
      "---------------\n",
      "\n",
      "Evaluate the time that it take to draw the graph"
     ]
    },
    {
     "cell_type": "code",
     "collapsed": false,
     "input": [
      "%time nx.draw_circular(G)"
     ],
     "language": "python",
     "metadata": {},
     "outputs": [
      {
       "output_type": "stream",
       "stream": "stdout",
       "text": [
        "CPU times: user 14.75 s, sys: 0.26 s, total: 15.00 s\n",
        "Wall time: 15.24 s\n"
       ]
      },
      {
       "output_type": "display_data",
       "png": "[encoded data removed]"
      }
     ],
     "prompt_number": 17
    },
    {
     "cell_type": "markdown",
     "metadata": {},
     "source": [
      "Profile Saving\n",
      "--------------\n",
      "\n",
      "Evaluate the time that it takes to write the Graph to a file"
     ]
    },
    {
     "cell_type": "code",
     "collapsed": false,
     "input": [
      "%time nx.write_gml(G,'output_graph')"
     ],
     "language": "python",
     "metadata": {},
     "outputs": [
      {
       "output_type": "stream",
       "stream": "stdout",
       "text": [
        "CPU times: user 4.23 s, sys: 0.03 s, total: 4.26 s\n",
        "Wall time: 4.27 s\n"
       ]
      }
     ],
     "prompt_number": 19
    },
    {
     "cell_type": "markdown",
     "metadata": {},
     "source": [
      "Profile Reading\n",
      "---------------\n",
      "\n",
      "Evaluate the time that it takes to read the Graph from a file"
     ]
    },
    {
     "cell_type": "code",
     "collapsed": false,
     "input": [
      "%time G2 = nx.read_gml('output_graph')"
     ],
     "language": "python",
     "metadata": {},
     "outputs": [],
     "prompt_number": "*"
    }
   ],
   "metadata": {}
  }
 ]
}