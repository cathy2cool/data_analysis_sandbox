{
 "metadata": {
  "name": "",
  "signature": "sha256:44a5279708f8c579fa7c31cdea591522166e2b25121d0c2c3cd1bc1cba915006"
 },
 "nbformat": 3,
 "nbformat_minor": 0,
 "worksheets": [
  {
   "cells": [
    {
     "cell_type": "code",
     "collapsed": false,
     "input": [
      "import matplotlib\n",
      "%matplotlib inline"
     ],
     "language": "python",
     "metadata": {},
     "outputs": [],
     "prompt_number": 1
    },
    {
     "cell_type": "code",
     "collapsed": false,
     "input": [
      "import pandas as pd\n",
      "import networkx as nx\n",
      "import matplotlib.pyplot as plt"
     ],
     "language": "python",
     "metadata": {},
     "outputs": [],
     "prompt_number": 2
    },
    {
     "cell_type": "heading",
     "level": 1,
     "metadata": {},
     "source": [
      "Data Input"
     ]
    },
    {
     "cell_type": "markdown",
     "metadata": {},
     "source": [
      "We are adding the adjacency matrices for each of the confidence levels so we can get a weight for the connections bewtween the petitions. For example, a value of 4 in the adjaceny matrix means that it is at the 40% confidence level."
     ]
    },
    {
     "cell_type": "code",
     "collapsed": false,
     "input": [
      "petition50 = pd.read_csv('../data/adjacency_matrix_50_percent_confidence.csv')\n",
      "petition40 = pd.read_csv('../data/adjacency_matrix_40_percent_confidence.csv')\n",
      "petition30 = pd.read_csv('../data/adjacency_matrix_30_percent_confidence.csv')\n",
      "petition20 = pd.read_csv('../data/adjacency_matrix_20_percent_confidence.csv')\n",
      "petition10 = pd.read_csv('../data/adjacency_matrix_10_percent_confidence.csv')\n",
      "petitions = petition50 + petition40 + petition30 + petition20 + petition10 \n",
      "adjacency_matrix = petitions.T.values[1:]\n",
      "petitions['Unnamed: 0'] = petition10['Unnamed: 0']\n",
      "petition_ids = petitions['Unnamed: 0']\n",
      "petition_labels = {i:x for i,x in petition_ids.iteritems()}"
     ],
     "language": "python",
     "metadata": {},
     "outputs": [],
     "prompt_number": 9
    },
    {
     "cell_type": "code",
     "collapsed": false,
     "input": [
      "print petitions\n"
     ],
     "language": "python",
     "metadata": {},
     "outputs": [
      {
       "output_type": "stream",
       "stream": "stdout",
       "text": [
        "    Unnamed: 0  975  980  981  982  983  984  985  987  990  996  1003  1006  \\\n",
        "0          975    0    0    1    0    0    0    0    0    0    0     2     0   \n",
        "1          980    0    0    0    0    0    0    1    0    2    3     0     4   \n",
        "2          981    1    0    0    0    2    0    0    0    1    0     2     2   \n",
        "3          982    0    0    0    0    0    0    0    0    0    0     0     0   \n",
        "4          983    0    0    4    0    0    0    0    0    2    0     3     2   \n",
        "5          984    0    0    0    0    0    0    0    0    0    0     0     0   \n",
        "6          985    0    3    0    0    0    0    0    0    0    3     0     4   \n",
        "7          987    0    0    0    0    0    0    0    0    5    0     0     5   \n",
        "8          990    0    2    1    0    1    0    0    2    0    3     0     5   \n",
        "9          996    0    3    0    0    0    0    1    0    3    0     0     5   \n",
        "10        1003    2    0    2    0    1    0    0    0    0    0     0     1   \n",
        "11        1006    0    0    0    0    0    0    0    0    1    1     0     0   \n",
        "12        1008    0    0    0    0    0    0    0    0    0    0     0     0   \n",
        "13        1009    0    2    1    0    0    0    0    1    4    4     0     5   \n",
        "14        1010    0    2    0    0    0    0    0    2    5    3     0     5   \n",
        "15        1013    0    0    0    0    0    0    0    0    0    0     0     0   \n",
        "16        1016    0    0    0    0    0    0    0    0    0    0     0     0   \n",
        "17        1025    0    0    0    0    0    0    0    0    0    0     0     0   \n",
        "18        1029    0    0    0    0    0    0    0    5    5    3     0     5   \n",
        "19        1043    0    0    0    0    0    0    0    0    0    0     0     0   \n",
        "20        1052    0    0    0    0    0    0    0    0    0    0     0     1   \n",
        "\n",
        "    1008  1009  1010  1013  1016  1025  1029      \n",
        "0      0     0     0     0     0     0     0 ...  \n",
        "1      0     2     1     0     0     0     0 ...  \n",
        "2      0     1     0     0     0     0     0 ...  \n",
        "3      0     0     0     0     0     0     0 ...  \n",
        "4      0     0     0     0     0     0     0 ...  \n",
        "5      0     0     0     0     0     0     0 ...  \n",
        "6      0     0     0     0     0     0     0 ...  \n",
        "7      0     3     4     0     0     0     5 ...  \n",
        "8      0     4     3     0     0     0     2 ...  \n",
        "9      0     4     2     0     0     0     1 ...  \n",
        "10     0     0     0     0     0     0     0 ...  \n",
        "11     0     1     0     0     0     0     0 ...  \n",
        "12     0     0     0     0     0     0     0 ...  \n",
        "13     0     0     2     0     0     0     1 ...  \n",
        "14     0     4     0     0     0     0     3 ...  \n",
        "15     0     0     0     0     0     0     0 ...  \n",
        "16     0     0     0     0     0     0     0 ...  \n",
        "17     0     0     0     0     0     0     0 ...  \n",
        "18     0     3     4     0     0     0     0 ...  \n",
        "19     0     0     0     0     0     0     0 ...  \n",
        "20     0     0     0     0     0     0     0 ...  \n",
        "\n",
        "[21 rows x 22 columns]\n"
       ]
      }
     ],
     "prompt_number": 10
    },
    {
     "cell_type": "code",
     "collapsed": false,
     "input": [
      "print petition10"
     ],
     "language": "python",
     "metadata": {},
     "outputs": [
      {
       "output_type": "stream",
       "stream": "stdout",
       "text": [
        "    Unnamed: 0  975  980  981  982  983  984  985  987  990  996  1003  1006  \\\n",
        "0          975    0    0    1    0    0    0    0    0    0    0     1     0   \n",
        "1          980    0    0    0    0    0    0    1    0    1    1     0     1   \n",
        "2          981    1    0    0    0    1    0    0    0    1    0     1     1   \n",
        "3          982    0    0    0    0    0    0    0    0    0    0     0     0   \n",
        "4          983    0    0    1    0    0    0    0    0    1    0     1     1   \n",
        "5          984    0    0    0    0    0    0    0    0    0    0     0     0   \n",
        "6          985    0    1    0    0    0    0    0    0    0    1     0     1   \n",
        "7          987    0    0    0    0    0    0    0    0    1    0     0     1   \n",
        "8          990    0    1    1    0    1    0    0    1    0    1     0     1   \n",
        "9          996    0    1    0    0    0    0    1    0    1    0     0     1   \n",
        "10        1003    1    0    1    0    1    0    0    0    0    0     0     1   \n",
        "11        1006    0    0    0    0    0    0    0    0    1    1     0     0   \n",
        "12        1008    0    0    0    0    0    0    0    0    0    0     0     0   \n",
        "13        1009    0    1    1    0    0    0    0    1    1    1     0     1   \n",
        "14        1010    0    1    0    0    0    0    0    1    1    1     0     1   \n",
        "15        1013    0    0    0    0    0    0    0    0    0    0     0     0   \n",
        "16        1016    0    0    0    0    0    0    0    0    0    0     0     0   \n",
        "17        1025    0    0    0    0    0    0    0    0    0    0     0     0   \n",
        "18        1029    0    0    0    0    0    0    0    1    1    1     0     1   \n",
        "19        1043    0    0    0    0    0    0    0    0    0    0     0     0   \n",
        "20        1052    0    0    0    0    0    0    0    0    0    0     0     1   \n",
        "\n",
        "    1008  1009  1010  1013  1016  1025  1029      \n",
        "0      0     0     0     0     0     0     0 ...  \n",
        "1      0     1     1     0     0     0     0 ...  \n",
        "2      0     1     0     0     0     0     0 ...  \n",
        "3      0     0     0     0     0     0     0 ...  \n",
        "4      0     0     0     0     0     0     0 ...  \n",
        "5      0     0     0     0     0     0     0 ...  \n",
        "6      0     0     0     0     0     0     0 ...  \n",
        "7      0     1     1     0     0     0     1 ...  \n",
        "8      0     1     1     0     0     0     1 ...  \n",
        "9      0     1     1     0     0     0     1 ...  \n",
        "10     0     0     0     0     0     0     0 ...  \n",
        "11     0     1     0     0     0     0     0 ...  \n",
        "12     0     0     0     0     0     0     0 ...  \n",
        "13     0     0     1     0     0     0     1 ...  \n",
        "14     0     1     0     0     0     0     1 ...  \n",
        "15     0     0     0     0     0     0     0 ...  \n",
        "16     0     0     0     0     0     0     0 ...  \n",
        "17     0     0     0     0     0     0     0 ...  \n",
        "18     0     1     1     0     0     0     0 ...  \n",
        "19     0     0     0     0     0     0     0 ...  \n",
        "20     0     0     0     0     0     0     0 ...  \n",
        "\n",
        "[21 rows x 22 columns]\n"
       ]
      }
     ],
     "prompt_number": 7
    },
    {
     "cell_type": "code",
     "collapsed": false,
     "input": [
      "graph = nx.from_numpy_matrix(adjacency_matrix)"
     ],
     "language": "python",
     "metadata": {},
     "outputs": [],
     "prompt_number": 13
    },
    {
     "cell_type": "code",
     "collapsed": false,
     "input": [
      "categories_colors = pd.read_csv('../data/petitions_groups_colors.csv')"
     ],
     "language": "python",
     "metadata": {},
     "outputs": [],
     "prompt_number": 14
    },
    {
     "cell_type": "code",
     "collapsed": false,
     "input": [
      "color_table =  [ [row[0],row[1],row[2]] for i,row in categories_colors.iterrows()]"
     ],
     "language": "python",
     "metadata": {},
     "outputs": [],
     "prompt_number": 15
    },
    {
     "cell_type": "code",
     "collapsed": false,
     "input": [
      "petitions_categories_table = pd.read_csv('../data/petitions_grouping.csv')\n",
      "petitions_categories =  { row[0]:row[1] for i,row in petitions_categories_table.iterrows() }"
     ],
     "language": "python",
     "metadata": {},
     "outputs": [],
     "prompt_number": 16
    },
    {
     "cell_type": "code",
     "collapsed": false,
     "input": [
      "node_colors_array = [ color_table[petitions_categories[pid]] for pid in petition_ids ]"
     ],
     "language": "python",
     "metadata": {},
     "outputs": [],
     "prompt_number": 17
    },
    {
     "cell_type": "code",
     "collapsed": false,
     "input": [
      "edge_weight = [adjacency_matrix[int(line.split()[0])][int(line.split()[1])] for line in nx.generate_edgelist(graph, data = False)] \n",
      "    "
     ],
     "language": "python",
     "metadata": {},
     "outputs": [],
     "prompt_number": 62
    },
    {
     "cell_type": "code",
     "collapsed": false,
     "input": [
      "nx.draw_spring(graph, labels = petition_labels,node_color = node_colors_array,edge_cmap = plt.get_cmap('binary'),edge_vmin = 0,edge_vmax = 5,edge_color = edge_weight, width = 3)"
     ],
     "language": "python",
     "metadata": {},
     "outputs": [
      {
       "metadata": {},
       "output_type": "display_data",
       "png": "[encoded data removed]",
       "text": [
        "<matplotlib.figure.Figure at 0x10c94c810>"
       ]
      }
     ],
     "prompt_number": 63
    },
    {
     "cell_type": "code",
     "collapsed": false,
     "input": [
      "for line in nx.generate_edgelist(graph, data = False): \n",
      "    print(line)"
     ],
     "language": "python",
     "metadata": {},
     "outputs": [
      {
       "output_type": "stream",
       "stream": "stdout",
       "text": [
        "0 2\n",
        "0 10\n",
        "1 6\n",
        "1 8\n",
        "1 9\n",
        "1 11\n",
        "1 13\n",
        "1 14\n",
        "1 20\n",
        "2 4\n",
        "2 8\n",
        "2 10\n",
        "2 11\n",
        "2 13\n",
        "4 8\n",
        "4 11\n",
        "4 10\n",
        "6 11\n",
        "6 9\n",
        "7 8\n",
        "7 18\n",
        "7 11\n",
        "7 13\n",
        "7 14\n",
        "8 9\n",
        "8 11\n",
        "8 13\n",
        "8 14\n",
        "8 18\n",
        "8 20\n",
        "9 11\n",
        "9 13\n",
        "9 14\n",
        "9 18\n",
        "9 20\n",
        "10 11\n",
        "11 13\n",
        "11 14\n",
        "11 18\n",
        "11 20\n",
        "13 14\n",
        "13 18\n",
        "13 20\n",
        "14 18\n"
       ]
      }
     ],
     "prompt_number": 64
    },
    {
     "cell_type": "code",
     "collapsed": false,
     "input": [
      "graph.number_of_edges()"
     ],
     "language": "python",
     "metadata": {},
     "outputs": [
      {
       "metadata": {},
       "output_type": "pyout",
       "prompt_number": 32,
       "text": [
        "44"
       ]
      }
     ],
     "prompt_number": 32
    },
    {
     "cell_type": "code",
     "collapsed": false,
     "input": [
      "edge_weight = [adjacency_matrix[int(line.split()[0])][int(line.split()[1])] for line in nx.generate_edgelist(graph, data = False)] \n",
      "    "
     ],
     "language": "python",
     "metadata": {},
     "outputs": [],
     "prompt_number": 53
    },
    {
     "cell_type": "code",
     "collapsed": false,
     "input": [
      "print adjacency_matrix[0][2]"
     ],
     "language": "python",
     "metadata": {},
     "outputs": [
      {
       "output_type": "stream",
       "stream": "stdout",
       "text": [
        "1\n"
       ]
      }
     ],
     "prompt_number": 54
    },
    {
     "cell_type": "code",
     "collapsed": false,
     "input": [
      "print edge_weight"
     ],
     "language": "python",
     "metadata": {},
     "outputs": [
      {
       "output_type": "stream",
       "stream": "stdout",
       "text": [
        "[1, 2, 3, 2, 3, 0, 2, 2, 0, 4, 1, 2, 0, 1, 1, 0, 1, 0, 1, 2, 5, 0, 1, 2, 3, 1, 4, 5, 5, 0, 1, 4, 3, 3, 0, 0, 5, 5, 5, 1, 4, 3, 0, 4]\n"
       ]
      }
     ],
     "prompt_number": 55
    },
    {
     "cell_type": "code",
     "collapsed": false,
     "input": [],
     "language": "python",
     "metadata": {},
     "outputs": []
    }
   ],
   "metadata": {}
  }
 ]
}