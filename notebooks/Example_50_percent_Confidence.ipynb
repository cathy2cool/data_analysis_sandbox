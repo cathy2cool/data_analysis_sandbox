{
 "metadata": {
  "name": "",
  "signature": "sha256:7ab4755b883b26ca9e1be931ca9fd91ec9fca9163bd94056b3dee7eefcdc5614"
 },
 "nbformat": 3,
 "nbformat_minor": 0,
 "worksheets": [
  {
   "cells": [
    {
     "cell_type": "code",
     "collapsed": false,
     "input": [
      "import pandas as pd\n",
      "import networkx as nx"
     ],
     "language": "python",
     "metadata": {},
     "outputs": [],
     "prompt_number": 2
    }
   ],
   "metadata": {}
  }
 ]
}