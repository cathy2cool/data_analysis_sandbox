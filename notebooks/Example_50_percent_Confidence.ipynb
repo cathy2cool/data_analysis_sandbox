{
 "metadata": {
  "name": "",
  "signature": "sha256:8ba38807692ce94c6d8a836bfbe5ce1a89a6bc047c885bd25e53f913cfd50af3"
 },
 "nbformat": 3,
 "nbformat_minor": 0,
 "worksheets": [
  {
   "cells": [
    {
     "cell_type": "code",
     "collapsed": false,
     "input": [
      "import pandas as pd\n",
      "import networkx as nx"
     ],
     "language": "python",
     "metadata": {},
     "outputs": [],
     "prompt_number": 2
    },
    {
     "cell_type": "code",
     "collapsed": false,
     "input": [
      "petitions = pd.read_csv('/Users/catherinedumas/data/dissertaion/petitions/adjacency_matrix_50_percent_confidence.csv')\n",
      "df2 = pd.concat([petitions, petitions.T]).fillna(0)\n",
      "df2 = df2.reindex(df2.columns)"
     ],
     "language": "python",
     "metadata": {},
     "outputs": [],
     "prompt_number": 10
    },
    {
     "cell_type": "code",
     "collapsed": false,
     "input": [
      "graph = nx.from_numpy_matrix(df2.values)"
     ],
     "language": "python",
     "metadata": {},
     "outputs": [],
     "prompt_number": 12
    }
   ],
   "metadata": {}
  }
 ]
}