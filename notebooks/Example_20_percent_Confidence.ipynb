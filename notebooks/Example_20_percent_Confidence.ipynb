{
 "metadata": {
  "name": "",
  "signature": "sha256:587749874c1a2b0f01142bb97d802ec3011ac47ef81f8cbe1e404d40153d656a"
 },
 "nbformat": 3,
 "nbformat_minor": 0,
 "worksheets": [
  {
   "cells": [
    {
     "cell_type": "markdown",
     "metadata": {},
     "source": [
      "Association Rules Graph Analysis\n",
      "================================\n",
      "* 20%"
     ]
    },
    {
     "cell_type": "code",
     "collapsed": false,
     "input": [
      "import matplotlib\n",
      "%matplotlib inline"
     ],
     "language": "python",
     "metadata": {},
     "outputs": [],
     "prompt_number": 1
    },
    {
     "cell_type": "code",
     "collapsed": false,
     "input": [
      "import pandas as pd\n",
      "import networkx as nx\n",
      "import matplotlib.pyplot as plt"
     ],
     "language": "python",
     "metadata": {},
     "outputs": [],
     "prompt_number": 2
    },
    {
     "cell_type": "code",
     "collapsed": false,
     "input": [
      "petitions = pd.read_csv('/Users/catherinedumas/data/dissertaion/petitions/adjacency_matrix_20_percent_confidence.csv')\n",
      "adjacency_matrix = petitions.T.values[1:]\n",
      "petition_ids = petitions['Unnamed: 0']\n",
      "petition_labels = {i:x for i,x in petition_ids.iteritems()}"
     ],
     "language": "python",
     "metadata": {},
     "outputs": [],
     "prompt_number": 3
    },
    {
     "cell_type": "code",
     "collapsed": false,
     "input": [
      "print petition_ids"
     ],
     "language": "python",
     "metadata": {},
     "outputs": [
      {
       "output_type": "stream",
       "stream": "stdout",
       "text": [
        "0      975\n",
        "1      980\n",
        "2      981\n",
        "3      982\n",
        "4      983\n",
        "5      984\n",
        "6      985\n",
        "7      987\n",
        "8      990\n",
        "9      996\n",
        "10    1003\n",
        "11    1006\n",
        "12    1008\n",
        "13    1009\n",
        "14    1010\n",
        "15    1013\n",
        "16    1016\n",
        "17    1025\n",
        "18    1029\n",
        "19    1043\n",
        "20    1052\n",
        "Name: Unnamed: 0, dtype: int64\n"
       ]
      }
     ],
     "prompt_number": 4
    },
    {
     "cell_type": "code",
     "collapsed": false,
     "input": [
      "print petition_labels"
     ],
     "language": "python",
     "metadata": {},
     "outputs": [
      {
       "output_type": "stream",
       "stream": "stdout",
       "text": [
        "{0: 975, 1: 980, 2: 981, 3: 982, 4: 983, 5: 984, 6: 985, 7: 987, 8: 990, 9: 996, 10: 1003, 11: 1006, 12: 1008, 13: 1009, 14: 1010, 15: 1013, 16: 1016, 17: 1025, 18: 1029, 19: 1043, 20: 1052}\n"
       ]
      }
     ],
     "prompt_number": 5
    },
    {
     "cell_type": "code",
     "collapsed": false,
     "input": [
      "print adjacency_matrix"
     ],
     "language": "python",
     "metadata": {},
     "outputs": [
      {
       "output_type": "stream",
       "stream": "stdout",
       "text": [
        "[[0 0 0 0 0 0 0 0 0 0 1 0 0 0 0 0 0 0 0 0 0]\n",
        " [0 0 0 0 0 0 1 0 1 1 0 0 0 1 1 0 0 0 0 0 0]\n",
        " [0 0 0 0 1 0 0 0 0 0 1 0 0 0 0 0 0 0 0 0 0]\n",
        " [0 0 0 0 0 0 0 0 0 0 0 0 0 0 0 0 0 0 0 0 0]\n",
        " [0 0 1 0 0 0 0 0 0 0 0 0 0 0 0 0 0 0 0 0 0]\n",
        " [0 0 0 0 0 0 0 0 0 0 0 0 0 0 0 0 0 0 0 0 0]\n",
        " [0 0 0 0 0 0 0 0 0 0 0 0 0 0 0 0 0 0 0 0 0]\n",
        " [0 0 0 0 0 0 0 0 1 0 0 0 0 0 1 0 0 0 1 0 0]\n",
        " [0 1 0 0 1 0 0 1 0 1 0 0 0 1 1 0 0 0 1 0 0]\n",
        " [0 1 0 0 0 0 1 0 1 0 0 0 0 1 1 0 0 0 1 0 0]\n",
        " [1 0 1 0 1 0 0 0 0 0 0 0 0 0 0 0 0 0 0 0 0]\n",
        " [0 1 1 0 1 0 1 1 1 1 0 0 0 1 1 0 0 0 1 0 0]\n",
        " [0 0 0 0 0 0 0 0 0 0 0 0 0 0 0 0 0 0 0 0 0]\n",
        " [0 1 0 0 0 0 0 1 1 1 0 0 0 0 1 0 0 0 1 0 0]\n",
        " [0 0 0 0 0 0 0 1 1 1 0 0 0 1 0 0 0 0 1 0 0]\n",
        " [0 0 0 0 0 0 0 0 0 0 0 0 0 0 0 0 0 0 0 0 0]\n",
        " [0 0 0 0 0 0 0 0 0 0 0 0 0 0 0 0 0 0 0 0 0]\n",
        " [0 0 0 0 0 0 0 0 0 0 0 0 0 0 0 0 0 0 0 0 0]\n",
        " [0 0 0 0 0 0 0 1 1 0 0 0 0 0 1 0 0 0 0 0 0]\n",
        " [0 0 0 0 0 0 0 0 0 0 0 0 0 0 0 0 0 0 0 0 0]\n",
        " [0 0 0 0 0 0 0 0 0 0 0 0 0 0 0 0 0 0 0 0 0]]\n"
       ]
      }
     ],
     "prompt_number": 6
    },
    {
     "cell_type": "code",
     "collapsed": false,
     "input": [
      "graph = nx.from_numpy_matrix(adjacency_matrix)"
     ],
     "language": "python",
     "metadata": {},
     "outputs": [],
     "prompt_number": 7
    },
    {
     "cell_type": "code",
     "collapsed": false,
     "input": [
      "categories_colors = pd.read_csv('../data/petitions_groups_colors.csv')"
     ],
     "language": "python",
     "metadata": {},
     "outputs": [],
     "prompt_number": 8
    },
    {
     "cell_type": "code",
     "collapsed": false,
     "input": [
      "color_table =  [ [row[0],row[1],row[2]] for i,row in categories_colors.iterrows()]"
     ],
     "language": "python",
     "metadata": {},
     "outputs": [],
     "prompt_number": 9
    },
    {
     "cell_type": "code",
     "collapsed": false,
     "input": [
      "petitions_categories_table = pd.read_csv('../data/petitions_grouping.csv')\n",
      "petitions_categories =  { row[0]:row[1] for i,row in petitions_categories_table.iterrows() }"
     ],
     "language": "python",
     "metadata": {},
     "outputs": [],
     "prompt_number": 10
    },
    {
     "cell_type": "code",
     "collapsed": false,
     "input": [
      "node_colors_array = [ color_table[petitions_categories[pid]] for pid in petition_ids ]"
     ],
     "language": "python",
     "metadata": {},
     "outputs": [],
     "prompt_number": 11
    },
    {
     "cell_type": "code",
     "collapsed": false,
     "input": [
      "nx.draw_spring(graph, labels = petition_labels,node_color = node_colors_array)"
     ],
     "language": "python",
     "metadata": {},
     "outputs": [
      {
       "metadata": {},
       "output_type": "display_data",
       "png": "[encoded data removed]",
       "text": [
        "<matplotlib.figure.Figure at 0x10c78a490>"
       ]
      }
     ],
     "prompt_number": 13
    }
   ],
   "metadata": {}
  }
 ]
}